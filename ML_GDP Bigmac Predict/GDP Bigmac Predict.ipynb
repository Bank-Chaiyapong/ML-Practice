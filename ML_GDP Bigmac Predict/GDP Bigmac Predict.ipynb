{
 "cells": [
  {
   "cell_type": "code",
   "execution_count": 1,
   "id": "e659a188-aab0-48c6-b8e5-2b3ebf8d1cbe",
   "metadata": {},
   "outputs": [],
   "source": [
    "import pandas as pd\n",
    "import numpy as np\n",
    "import seaborn as sns\n",
    "import matplotlib.pyplot as plt\n",
    "import calendar\n",
    "from datetime import datetime\n",
    "import sklearn\n",
    "%matplotlib inline\n",
    "%config InlineBackend.figure_format = 'retina'"
   ]
  },
  {
   "cell_type": "code",
   "execution_count": 4,
   "id": "0c462ee5-2a06-4dca-9e93-b2293bccadcf",
   "metadata": {},
   "outputs": [
    {
     "name": "stdout",
     "output_type": "stream",
     "text": [
      "pandas version: 2.1.4\n",
      "numpy version: 1.26.4\n",
      "seaborn version: 0.12.2\n",
      "sklearn version: 1.2.2\n"
     ]
    }
   ],
   "source": [
    "print(f'pandas version: {pd.__version__}')\n",
    "print(f'numpy version: {np.__version__}')\n",
    "print(f'seaborn version: {sns.__version__}')\n",
    "print(f'sklearn version: {sklearn.__version__}')"
   ]
  },
  {
   "cell_type": "code",
   "execution_count": 80,
   "id": "c66ff133-350f-42f4-8509-049d01ed5160",
   "metadata": {},
   "outputs": [],
   "source": [
    "data = pd.read_csv('Desktop/big-mac-adjusted-index.csv', parse_dates =['date'])"
   ]
  },
  {
   "cell_type": "code",
   "execution_count": 92,
   "id": "cfa4f47a-60e2-4b4e-b10f-aa9ba89c0543",
   "metadata": {},
   "outputs": [],
   "source": [
    "data = data[(data['date'].dt.year == 2019) &  (data['date'].dt.month == 1)]"
   ]
  },
  {
   "cell_type": "code",
   "execution_count": 93,
   "id": "28e2f008-80f8-452c-b8f9-0119fa2dbf63",
   "metadata": {},
   "outputs": [
    {
     "data": {
      "text/html": [
       "<div>\n",
       "<style scoped>\n",
       "    .dataframe tbody tr th:only-of-type {\n",
       "        vertical-align: middle;\n",
       "    }\n",
       "\n",
       "    .dataframe tbody tr th {\n",
       "        vertical-align: top;\n",
       "    }\n",
       "\n",
       "    .dataframe thead th {\n",
       "        text-align: right;\n",
       "    }\n",
       "</style>\n",
       "<table border=\"1\" class=\"dataframe\">\n",
       "  <thead>\n",
       "    <tr style=\"text-align: right;\">\n",
       "      <th></th>\n",
       "      <th>date</th>\n",
       "      <th>iso_a3</th>\n",
       "      <th>currency_code</th>\n",
       "      <th>name</th>\n",
       "      <th>local_price</th>\n",
       "      <th>dollar_ex</th>\n",
       "      <th>dollar_price</th>\n",
       "      <th>GDP_bigmac</th>\n",
       "      <th>adj_price</th>\n",
       "      <th>USD</th>\n",
       "      <th>EUR</th>\n",
       "      <th>GBP</th>\n",
       "      <th>JPY</th>\n",
       "      <th>CNY</th>\n",
       "    </tr>\n",
       "  </thead>\n",
       "  <tbody>\n",
       "    <tr>\n",
       "      <th>1022</th>\n",
       "      <td>2019-01-01</td>\n",
       "      <td>ARG</td>\n",
       "      <td>ARS</td>\n",
       "      <td>Argentina</td>\n",
       "      <td>75.00</td>\n",
       "      <td>37.455000</td>\n",
       "      <td>2.002403</td>\n",
       "      <td>20810.978188</td>\n",
       "      <td>3.400040</td>\n",
       "      <td>-0.43135</td>\n",
       "      <td>-0.50271</td>\n",
       "      <td>-0.40109</td>\n",
       "      <td>-0.29847</td>\n",
       "      <td>-0.37607</td>\n",
       "    </tr>\n",
       "    <tr>\n",
       "      <th>1023</th>\n",
       "      <td>2019-01-01</td>\n",
       "      <td>AUS</td>\n",
       "      <td>AUD</td>\n",
       "      <td>Australia</td>\n",
       "      <td>6.10</td>\n",
       "      <td>1.401640</td>\n",
       "      <td>4.352045</td>\n",
       "      <td>58148.657774</td>\n",
       "      <td>4.420911</td>\n",
       "      <td>-0.04949</td>\n",
       "      <td>-0.16876</td>\n",
       "      <td>0.00110</td>\n",
       "      <td>0.17263</td>\n",
       "      <td>0.04292</td>\n",
       "    </tr>\n",
       "    <tr>\n",
       "      <th>1024</th>\n",
       "      <td>2019-01-01</td>\n",
       "      <td>BRA</td>\n",
       "      <td>BRL</td>\n",
       "      <td>Brazil</td>\n",
       "      <td>16.90</td>\n",
       "      <td>3.717950</td>\n",
       "      <td>4.545516</td>\n",
       "      <td>9362.534656</td>\n",
       "      <td>3.087021</td>\n",
       "      <td>0.42174</td>\n",
       "      <td>0.24334</td>\n",
       "      <td>0.49740</td>\n",
       "      <td>0.75398</td>\n",
       "      <td>0.55995</td>\n",
       "    </tr>\n",
       "    <tr>\n",
       "      <th>1025</th>\n",
       "      <td>2019-01-01</td>\n",
       "      <td>GBR</td>\n",
       "      <td>GBP</td>\n",
       "      <td>Britain</td>\n",
       "      <td>3.19</td>\n",
       "      <td>0.783208</td>\n",
       "      <td>4.072992</td>\n",
       "      <td>47946.778270</td>\n",
       "      <td>4.141975</td>\n",
       "      <td>-0.05053</td>\n",
       "      <td>-0.16967</td>\n",
       "      <td>0.00000</td>\n",
       "      <td>0.17135</td>\n",
       "      <td>0.04178</td>\n",
       "    </tr>\n",
       "    <tr>\n",
       "      <th>1026</th>\n",
       "      <td>2019-01-01</td>\n",
       "      <td>CAN</td>\n",
       "      <td>CAD</td>\n",
       "      <td>Canada</td>\n",
       "      <td>6.77</td>\n",
       "      <td>1.331400</td>\n",
       "      <td>5.084873</td>\n",
       "      <td>42034.227332</td>\n",
       "      <td>3.980317</td>\n",
       "      <td>0.23350</td>\n",
       "      <td>0.07872</td>\n",
       "      <td>0.29914</td>\n",
       "      <td>0.52175</td>\n",
       "      <td>0.35341</td>\n",
       "    </tr>\n",
       "  </tbody>\n",
       "</table>\n",
       "</div>"
      ],
      "text/plain": [
       "           date iso_a3 currency_code       name  local_price  dollar_ex  \\\n",
       "1022 2019-01-01    ARG           ARS  Argentina        75.00  37.455000   \n",
       "1023 2019-01-01    AUS           AUD  Australia         6.10   1.401640   \n",
       "1024 2019-01-01    BRA           BRL     Brazil        16.90   3.717950   \n",
       "1025 2019-01-01    GBR           GBP    Britain         3.19   0.783208   \n",
       "1026 2019-01-01    CAN           CAD     Canada         6.77   1.331400   \n",
       "\n",
       "      dollar_price    GDP_bigmac  adj_price      USD      EUR      GBP  \\\n",
       "1022      2.002403  20810.978188   3.400040 -0.43135 -0.50271 -0.40109   \n",
       "1023      4.352045  58148.657774   4.420911 -0.04949 -0.16876  0.00110   \n",
       "1024      4.545516   9362.534656   3.087021  0.42174  0.24334  0.49740   \n",
       "1025      4.072992  47946.778270   4.141975 -0.05053 -0.16967  0.00000   \n",
       "1026      5.084873  42034.227332   3.980317  0.23350  0.07872  0.29914   \n",
       "\n",
       "          JPY      CNY  \n",
       "1022 -0.29847 -0.37607  \n",
       "1023  0.17263  0.04292  \n",
       "1024  0.75398  0.55995  \n",
       "1025  0.17135  0.04178  \n",
       "1026  0.52175  0.35341  "
      ]
     },
     "execution_count": 93,
     "metadata": {},
     "output_type": "execute_result"
    }
   ],
   "source": [
    "data.head()"
   ]
  },
  {
   "cell_type": "code",
   "execution_count": 82,
   "id": "31fb04ab-1020-4ffa-98eb-7de85b72c03a",
   "metadata": {},
   "outputs": [
    {
     "data": {
      "text/plain": [
       "(1489, 14)"
      ]
     },
     "execution_count": 82,
     "metadata": {},
     "output_type": "execute_result"
    }
   ],
   "source": [
    "data.shape"
   ]
  },
  {
   "cell_type": "code",
   "execution_count": 83,
   "id": "8c6437c3-7f76-402a-8698-36790ac0a553",
   "metadata": {},
   "outputs": [
    {
     "data": {
      "text/plain": [
       "Index(['date', 'iso_a3', 'currency_code', 'name', 'local_price', 'dollar_ex',\n",
       "       'dollar_price', 'GDP_bigmac', 'adj_price', 'USD', 'EUR', 'GBP', 'JPY',\n",
       "       'CNY'],\n",
       "      dtype='object')"
      ]
     },
     "execution_count": 83,
     "metadata": {},
     "output_type": "execute_result"
    }
   ],
   "source": [
    "data.columns"
   ]
  },
  {
   "cell_type": "code",
   "execution_count": 95,
   "id": "b03b48ec-24fc-49b5-824f-03d05d458843",
   "metadata": {},
   "outputs": [
    {
     "data": {
      "text/plain": [
       "<bound method DataFrame.info of            date iso_a3 currency_code            name  local_price  \\\n",
       "1022 2019-01-01    ARG           ARS       Argentina        75.00   \n",
       "1023 2019-01-01    AUS           AUD       Australia         6.10   \n",
       "1024 2019-01-01    BRA           BRL          Brazil        16.90   \n",
       "1025 2019-01-01    GBR           GBP         Britain         3.19   \n",
       "1026 2019-01-01    CAN           CAD          Canada         6.77   \n",
       "1027 2019-01-01    CHL           CLP           Chile      2640.00   \n",
       "1028 2019-01-01    CHN           CNY           China        20.90   \n",
       "1029 2019-01-01    COL           COP        Colombia     11900.00   \n",
       "1030 2019-01-01    CZE           CZK  Czech Republic        85.00   \n",
       "1031 2019-01-01    DNK           DKK         Denmark        30.00   \n",
       "1032 2019-01-01    EGY           EGP           Egypt        40.00   \n",
       "1033 2019-01-01    EUZ           EUR       Euro area         4.05   \n",
       "1034 2019-01-01    HKG           HKD       Hong Kong        20.00   \n",
       "1035 2019-01-01    HUN           HUF         Hungary       850.00   \n",
       "1036 2019-01-01    IND           INR           India       178.00   \n",
       "1037 2019-01-01    IDN           IDR       Indonesia     33000.00   \n",
       "1038 2019-01-01    ISR           ILS          Israel        17.00   \n",
       "1039 2019-01-01    JPN           JPY           Japan       390.00   \n",
       "1040 2019-01-01    MYS           MYR        Malaysia         9.05   \n",
       "1041 2019-01-01    MEX           MXN          Mexico        49.00   \n",
       "1042 2019-01-01    NZL           NZD     New Zealand         6.20   \n",
       "1043 2019-01-01    NOR           NOK          Norway        50.00   \n",
       "1044 2019-01-01    PAK           PKR        Pakistan       460.00   \n",
       "1045 2019-01-01    PER           PEN            Peru        10.50   \n",
       "1046 2019-01-01    PHL           PHP     Philippines       140.00   \n",
       "1047 2019-01-01    POL           PLN          Poland        10.50   \n",
       "1048 2019-01-01    RUS           RUB          Russia       110.17   \n",
       "1049 2019-01-01    SAU           SAR    Saudi Arabia        12.00   \n",
       "1050 2019-01-01    SGP           SGD       Singapore         5.80   \n",
       "1051 2019-01-01    ZAF           ZAR    South Africa        31.00   \n",
       "1052 2019-01-01    KOR           KRW     South Korea      4500.00   \n",
       "1053 2019-01-01    SWE           SEK          Sweden        52.00   \n",
       "1054 2019-01-01    CHE           CHF     Switzerland         6.50   \n",
       "1055 2019-01-01    TWN           TWD          Taiwan        69.00   \n",
       "1056 2019-01-01    THA           THB        Thailand       119.00   \n",
       "1057 2019-01-01    TUR           TRY          Turkey        10.75   \n",
       "1058 2019-01-01    USA           USD   United States         4.71   \n",
       "\n",
       "         dollar_ex  dollar_price    GDP_bigmac  adj_price      USD      EUR  \\\n",
       "1022     37.455000      2.002403  20810.978188   3.400040 -0.43135 -0.50271   \n",
       "1023      1.401640      4.352045  58148.657774   4.420911 -0.04949 -0.16876   \n",
       "1024      3.717950      4.545516   9362.534656   3.087021  0.42174  0.24334   \n",
       "1025      0.783208      4.072992  47946.778270   4.141975 -0.05053 -0.16967   \n",
       "1026      1.331400      5.084873  42034.227332   3.980317  0.23350  0.07872   \n",
       "1027    678.990000      3.888128  18023.664044   3.323830  0.12948 -0.01225   \n",
       "1028      6.849700      3.051229  14684.528808   3.232533 -0.08860 -0.20297   \n",
       "1029   3191.500000      3.728654   8101.496446   3.052543  0.17941  0.03142   \n",
       "1030     22.311650      3.809669  28258.083030   3.603655  0.02075 -0.10733   \n",
       "1031      6.515450      4.604440  61193.362480   4.504158 -0.01295 -0.13681   \n",
       "1032     17.910000      2.233389   5658.548431   2.985749 -0.27775 -0.36838   \n",
       "1033      0.872486      4.641908  39813.656861   3.919603  0.14348  0.00000   \n",
       "1034      7.834350      2.552860  89178.723636   5.269322 -0.53221 -0.59091   \n",
       "1035    280.268750      3.032803  24587.021147   3.503283 -0.16412 -0.26900   \n",
       "1036     69.685000      2.554352   3653.008049   2.930914 -0.15850 -0.26409   \n",
       "1037  14090.000000      2.342087   8017.422572   3.050244 -0.25861 -0.35164   \n",
       "1038      3.707850      4.584867  42202.073494   3.984906  0.11092 -0.02847   \n",
       "1039    108.440000      3.596459  53143.295665   4.284056 -0.18942 -0.29113   \n",
       "1040      4.117500      2.197936  23268.115608   3.467222 -0.38792 -0.46472   \n",
       "1041     19.308750      2.537710  18042.461852   3.324344 -0.26292 -0.35541   \n",
       "1042      1.479290      4.191200  46879.601627   4.112797 -0.01604 -0.13951   \n",
       "1043      8.532900      5.859673  63464.868059   4.566264  0.23905  0.08357   \n",
       "1044    138.880000      3.312212   1913.084987   2.883342  0.10917 -0.03001   \n",
       "1045      3.348500      3.135732  10397.642589   3.115323 -0.02812 -0.15007   \n",
       "1046     52.392500      2.672138   5810.261080   2.989897 -0.13706 -0.24535   \n",
       "1047      3.748450      2.801158  25117.779571   3.517795 -0.23115 -0.32762   \n",
       "1048     66.685000      1.652096  30251.237299   3.658151 -0.56394 -0.61865   \n",
       "1049      3.751150      3.199019  37292.096567   3.850660 -0.19785 -0.29850   \n",
       "1050      1.355900      4.277602  73209.566669   4.832700 -0.14535 -0.25259   \n",
       "1051     13.867500      2.235443  14025.848682   3.214524 -0.32854 -0.41279   \n",
       "1052   1118.600000      4.022886  38514.540716   3.884083  0.00006 -0.12543   \n",
       "1053      8.906250      5.838596  42749.285684   3.999868  0.40941  0.23256   \n",
       "1054      0.981650      6.621505  60616.981182   4.488399  0.42443  0.24569   \n",
       "1055     30.803000      2.240042  53173.029630   4.284869 -0.49523 -0.55857   \n",
       "1056     32.007500      3.717879   9334.129259   3.086245  0.16316  0.01721   \n",
       "1057      5.383400      1.996879  20082.768770   3.380129 -0.42958 -0.50116   \n",
       "1058      1.000000      4.710000  62787.782000   4.547752  0.00000 -0.12548   \n",
       "\n",
       "          GBP      JPY      CNY  \n",
       "1022 -0.40109 -0.29847 -0.37607  \n",
       "1023  0.00110  0.17263  0.04292  \n",
       "1024  0.49740  0.75398  0.55995  \n",
       "1025  0.00000  0.17135  0.04178  \n",
       "1026  0.29914  0.52175  0.35341  \n",
       "1027  0.18959  0.39342  0.23928  \n",
       "1028 -0.04010  0.12438  0.00000  \n",
       "1029  0.24218  0.45502  0.29407  \n",
       "1030  0.07507  0.25929  0.11999  \n",
       "1031  0.03958  0.21771  0.08301  \n",
       "1032 -0.23931 -0.10897 -0.20754  \n",
       "1033  0.20434  0.41070  0.25465  \n",
       "1034 -0.50732 -0.42290 -0.48674  \n",
       "1035 -0.11963  0.03121 -0.08286  \n",
       "1036 -0.11372  0.03814 -0.07669  \n",
       "1037 -0.21916 -0.08536 -0.18654  \n",
       "1038  0.17005  0.37053  0.21892  \n",
       "1039 -0.14628  0.00000 -0.11062  \n",
       "1040 -0.35535 -0.24488 -0.32841  \n",
       "1041 -0.22370 -0.09068 -0.19127  \n",
       "1042  0.03632  0.21390  0.07962  \n",
       "1043  0.30499  0.52859  0.35950  \n",
       "1044  0.16820  0.36837  0.21700  \n",
       "1045  0.02360  0.19899  0.06636  \n",
       "1046 -0.09114  0.06459 -0.05317  \n",
       "1047 -0.19023 -0.05148 -0.15640  \n",
       "1048 -0.54073 -0.46204 -0.52154  \n",
       "1049 -0.15516 -0.01040 -0.11986  \n",
       "1050 -0.09987  0.05436 -0.06227  \n",
       "1051 -0.29280 -0.17163 -0.26326  \n",
       "1052  0.05328  0.23376  0.09728  \n",
       "1053  0.48442  0.73877  0.54643  \n",
       "1054  0.50023  0.75730  0.56291  \n",
       "1055 -0.46837 -0.37727 -0.44616  \n",
       "1056  0.22506  0.43498  0.27624  \n",
       "1057 -0.39922 -0.29628 -0.37413  \n",
       "1058  0.05322  0.23368  0.09722  >"
      ]
     },
     "execution_count": 95,
     "metadata": {},
     "output_type": "execute_result"
    }
   ],
   "source": [
    "data.info"
   ]
  },
  {
   "cell_type": "code",
   "execution_count": 94,
   "id": "ad640789-f329-4c03-b9d1-6b6f5dd6888b",
   "metadata": {},
   "outputs": [
    {
     "data": {
      "text/plain": [
       "date             0\n",
       "iso_a3           0\n",
       "currency_code    0\n",
       "name             0\n",
       "local_price      0\n",
       "dollar_ex        0\n",
       "dollar_price     0\n",
       "GDP_bigmac       0\n",
       "adj_price        0\n",
       "USD              0\n",
       "EUR              0\n",
       "GBP              0\n",
       "JPY              0\n",
       "CNY              0\n",
       "dtype: int64"
      ]
     },
     "execution_count": 94,
     "metadata": {},
     "output_type": "execute_result"
    }
   ],
   "source": [
    "data.isnull().sum()"
   ]
  },
  {
   "cell_type": "code",
   "execution_count": 84,
   "id": "972935bc-0b55-436b-bdaa-2d3f0a6ff29c",
   "metadata": {
    "scrolled": true
   },
   "outputs": [
    {
     "data": {
      "text/html": [
       "<div>\n",
       "<style scoped>\n",
       "    .dataframe tbody tr th:only-of-type {\n",
       "        vertical-align: middle;\n",
       "    }\n",
       "\n",
       "    .dataframe tbody tr th {\n",
       "        vertical-align: top;\n",
       "    }\n",
       "\n",
       "    .dataframe thead th {\n",
       "        text-align: right;\n",
       "    }\n",
       "</style>\n",
       "<table border=\"1\" class=\"dataframe\">\n",
       "  <thead>\n",
       "    <tr style=\"text-align: right;\">\n",
       "      <th></th>\n",
       "      <th>date</th>\n",
       "      <th>local_price</th>\n",
       "      <th>dollar_ex</th>\n",
       "      <th>dollar_price</th>\n",
       "      <th>GDP_bigmac</th>\n",
       "      <th>adj_price</th>\n",
       "      <th>USD</th>\n",
       "      <th>EUR</th>\n",
       "      <th>GBP</th>\n",
       "      <th>JPY</th>\n",
       "      <th>CNY</th>\n",
       "    </tr>\n",
       "  </thead>\n",
       "  <tbody>\n",
       "    <tr>\n",
       "      <th>count</th>\n",
       "      <td>1489</td>\n",
       "      <td>1489.00</td>\n",
       "      <td>1489.00</td>\n",
       "      <td>1489.00</td>\n",
       "      <td>1489.00</td>\n",
       "      <td>1489.00</td>\n",
       "      <td>1489.00</td>\n",
       "      <td>1489.00</td>\n",
       "      <td>1489.00</td>\n",
       "      <td>1489.00</td>\n",
       "      <td>1489.00</td>\n",
       "    </tr>\n",
       "    <tr>\n",
       "      <th>mean</th>\n",
       "      <td>2014-03-21 22:02:00.886500864</td>\n",
       "      <td>9284.64</td>\n",
       "      <td>3524.51</td>\n",
       "      <td>3.41</td>\n",
       "      <td>25926.69</td>\n",
       "      <td>3.49</td>\n",
       "      <td>0.05</td>\n",
       "      <td>-0.18</td>\n",
       "      <td>-0.08</td>\n",
       "      <td>0.28</td>\n",
       "      <td>0.26</td>\n",
       "    </tr>\n",
       "    <tr>\n",
       "      <th>min</th>\n",
       "      <td>2000-04-01 00:00:00</td>\n",
       "      <td>1.10</td>\n",
       "      <td>0.30</td>\n",
       "      <td>0.64</td>\n",
       "      <td>0.00</td>\n",
       "      <td>1.55</td>\n",
       "      <td>-0.74</td>\n",
       "      <td>-0.83</td>\n",
       "      <td>-0.83</td>\n",
       "      <td>-0.72</td>\n",
       "      <td>-0.65</td>\n",
       "    </tr>\n",
       "    <tr>\n",
       "      <th>25%</th>\n",
       "      <td>2009-07-01 00:00:00</td>\n",
       "      <td>6.70</td>\n",
       "      <td>2.26</td>\n",
       "      <td>2.43</td>\n",
       "      <td>8274.16</td>\n",
       "      <td>3.00</td>\n",
       "      <td>-0.18</td>\n",
       "      <td>-0.36</td>\n",
       "      <td>-0.29</td>\n",
       "      <td>-0.01</td>\n",
       "      <td>-0.04</td>\n",
       "    </tr>\n",
       "    <tr>\n",
       "      <th>50%</th>\n",
       "      <td>2015-01-01 00:00:00</td>\n",
       "      <td>23.00</td>\n",
       "      <td>7.35</td>\n",
       "      <td>3.20</td>\n",
       "      <td>20187.69</td>\n",
       "      <td>3.45</td>\n",
       "      <td>0.00</td>\n",
       "      <td>-0.20</td>\n",
       "      <td>-0.10</td>\n",
       "      <td>0.23</td>\n",
       "      <td>0.16</td>\n",
       "    </tr>\n",
       "    <tr>\n",
       "      <th>75%</th>\n",
       "      <td>2020-01-14 00:00:00</td>\n",
       "      <td>115.00</td>\n",
       "      <td>42.50</td>\n",
       "      <td>4.23</td>\n",
       "      <td>40590.72</td>\n",
       "      <td>4.12</td>\n",
       "      <td>0.21</td>\n",
       "      <td>-0.03</td>\n",
       "      <td>0.08</td>\n",
       "      <td>0.52</td>\n",
       "      <td>0.44</td>\n",
       "    </tr>\n",
       "    <tr>\n",
       "      <th>max</th>\n",
       "      <td>2023-07-01 00:00:00</td>\n",
       "      <td>4000000.00</td>\n",
       "      <td>1600500.00</td>\n",
       "      <td>8.31</td>\n",
       "      <td>122483.55</td>\n",
       "      <td>5.80</td>\n",
       "      <td>1.92</td>\n",
       "      <td>0.82</td>\n",
       "      <td>1.15</td>\n",
       "      <td>2.72</td>\n",
       "      <td>3.14</td>\n",
       "    </tr>\n",
       "    <tr>\n",
       "      <th>std</th>\n",
       "      <td>NaN</td>\n",
       "      <td>175055.54</td>\n",
       "      <td>66853.30</td>\n",
       "      <td>1.30</td>\n",
       "      <td>20775.77</td>\n",
       "      <td>0.82</td>\n",
       "      <td>0.35</td>\n",
       "      <td>0.25</td>\n",
       "      <td>0.29</td>\n",
       "      <td>0.42</td>\n",
       "      <td>0.48</td>\n",
       "    </tr>\n",
       "  </tbody>\n",
       "</table>\n",
       "</div>"
      ],
      "text/plain": [
       "                                date  local_price   dollar_ex  dollar_price  \\\n",
       "count                           1489      1489.00     1489.00       1489.00   \n",
       "mean   2014-03-21 22:02:00.886500864      9284.64     3524.51          3.41   \n",
       "min              2000-04-01 00:00:00         1.10        0.30          0.64   \n",
       "25%              2009-07-01 00:00:00         6.70        2.26          2.43   \n",
       "50%              2015-01-01 00:00:00        23.00        7.35          3.20   \n",
       "75%              2020-01-14 00:00:00       115.00       42.50          4.23   \n",
       "max              2023-07-01 00:00:00   4000000.00  1600500.00          8.31   \n",
       "std                              NaN    175055.54    66853.30          1.30   \n",
       "\n",
       "       GDP_bigmac  adj_price      USD      EUR      GBP      JPY      CNY  \n",
       "count     1489.00    1489.00  1489.00  1489.00  1489.00  1489.00  1489.00  \n",
       "mean     25926.69       3.49     0.05    -0.18    -0.08     0.28     0.26  \n",
       "min          0.00       1.55    -0.74    -0.83    -0.83    -0.72    -0.65  \n",
       "25%       8274.16       3.00    -0.18    -0.36    -0.29    -0.01    -0.04  \n",
       "50%      20187.69       3.45     0.00    -0.20    -0.10     0.23     0.16  \n",
       "75%      40590.72       4.12     0.21    -0.03     0.08     0.52     0.44  \n",
       "max     122483.55       5.80     1.92     0.82     1.15     2.72     3.14  \n",
       "std      20775.77       0.82     0.35     0.25     0.29     0.42     0.48  "
      ]
     },
     "execution_count": 84,
     "metadata": {},
     "output_type": "execute_result"
    }
   ],
   "source": [
    "data.describe().round(2)"
   ]
  },
  {
   "cell_type": "code",
   "execution_count": 96,
   "id": "2dddec97-2e7c-440b-8dce-f1605b8a8486",
   "metadata": {
    "scrolled": true
   },
   "outputs": [
    {
     "data": {
      "text/plain": [
       "<seaborn.axisgrid.FacetGrid at 0x1689aa56c10>"
      ]
     },
     "execution_count": 96,
     "metadata": {},
     "output_type": "execute_result"
    },
    {
     "data": {
      "image/png": "[encoded data removed]",
      "text/plain": [
       "<Figure size 500x500 with 1 Axes>"
      ]
     },
     "metadata": {
      "image/png": {
       "height": 490,
       "width": 490
      }
     },
     "output_type": "display_data"
    }
   ],
   "source": [
    "sns.lmplot(x = 'GDP_bigmac' , y = 'dollar_price', data = data , ci = None)"
   ]
  },
  {
   "cell_type": "code",
   "execution_count": 97,
   "id": "befb5a43-b822-4e01-8440-0d78810ae8e8",
   "metadata": {},
   "outputs": [
    {
     "name": "stderr",
     "output_type": "stream",
     "text": [
      "C:\\Users\\Bank\\anaconda3\\Lib\\site-packages\\seaborn\\_oldcore.py:1119: FutureWarning: use_inf_as_na option is deprecated and will be removed in a future version. Convert inf values to NaN before operating instead.\n",
      "  with pd.option_context('mode.use_inf_as_na', True):\n",
      "C:\\Users\\Bank\\anaconda3\\Lib\\site-packages\\seaborn\\_oldcore.py:1119: FutureWarning: use_inf_as_na option is deprecated and will be removed in a future version. Convert inf values to NaN before operating instead.\n",
      "  with pd.option_context('mode.use_inf_as_na', True):\n"
     ]
    },
    {
     "data": {
      "text/plain": [
       "<seaborn.axisgrid.JointGrid at 0x1689e5dda90>"
      ]
     },
     "execution_count": 97,
     "metadata": {},
     "output_type": "execute_result"
    },
    {
     "data": {
      "image/png": "[encoded data removed]",
      "text/plain": [
       "<Figure size 600x600 with 3 Axes>"
      ]
     },
     "metadata": {
      "image/png": {
       "height": 590,
       "width": 577
      }
     },
     "output_type": "display_data"
    }
   ],
   "source": [
    "sns.jointplot(x = 'GDP_bigmac' , y = 'dollar_price', data = data , kind = 'reg' ,ci = None, color = 'red')"
   ]
  },
  {
   "cell_type": "code",
   "execution_count": 85,
   "id": "7b284114-3a39-46b9-a7d3-d29f718ecc14",
   "metadata": {},
   "outputs": [],
   "source": [
    "from sklearn.linear_model import LinearRegression\n",
    "from sklearn.metrics import mean_squared_error"
   ]
  },
  {
   "cell_type": "code",
   "execution_count": 86,
   "id": "46476d85-6c0a-4674-9721-de116046d4d2",
   "metadata": {},
   "outputs": [
    {
     "data": {
      "text/html": [
       "<style>#sk-container-id-6 {color: black;background-color: white;}#sk-container-id-6 pre{padding: 0;}#sk-container-id-6 div.sk-toggleable {background-color: white;}#sk-container-id-6 label.sk-toggleable__label {cursor: pointer;display: block;width: 100%;margin-bottom: 0;padding: 0.3em;box-sizing: border-box;text-align: center;}#sk-container-id-6 label.sk-toggleable__label-arrow:before {content: \"▸\";float: left;margin-right: 0.25em;color: #696969;}#sk-container-id-6 label.sk-toggleable__label-arrow:hover:before {color: black;}#sk-container-id-6 div.sk-estimator:hover label.sk-toggleable__label-arrow:before {color: black;}#sk-container-id-6 div.sk-toggleable__content {max-height: 0;max-width: 0;overflow: hidden;text-align: left;background-color: #f0f8ff;}#sk-container-id-6 div.sk-toggleable__content pre {margin: 0.2em;color: black;border-radius: 0.25em;background-color: #f0f8ff;}#sk-container-id-6 input.sk-toggleable__control:checked~div.sk-toggleable__content {max-height: 200px;max-width: 100%;overflow: auto;}#sk-container-id-6 input.sk-toggleable__control:checked~label.sk-toggleable__label-arrow:before {content: \"▾\";}#sk-container-id-6 div.sk-estimator input.sk-toggleable__control:checked~label.sk-toggleable__label {background-color: #d4ebff;}#sk-container-id-6 div.sk-label input.sk-toggleable__control:checked~label.sk-toggleable__label {background-color: #d4ebff;}#sk-container-id-6 input.sk-hidden--visually {border: 0;clip: rect(1px 1px 1px 1px);clip: rect(1px, 1px, 1px, 1px);height: 1px;margin: -1px;overflow: hidden;padding: 0;position: absolute;width: 1px;}#sk-container-id-6 div.sk-estimator {font-family: monospace;background-color: #f0f8ff;border: 1px dotted black;border-radius: 0.25em;box-sizing: border-box;margin-bottom: 0.5em;}#sk-container-id-6 div.sk-estimator:hover {background-color: #d4ebff;}#sk-container-id-6 div.sk-parallel-item::after {content: \"\";width: 100%;border-bottom: 1px solid gray;flex-grow: 1;}#sk-container-id-6 div.sk-label:hover label.sk-toggleable__label {background-color: #d4ebff;}#sk-container-id-6 div.sk-serial::before {content: \"\";position: absolute;border-left: 1px solid gray;box-sizing: border-box;top: 0;bottom: 0;left: 50%;z-index: 0;}#sk-container-id-6 div.sk-serial {display: flex;flex-direction: column;align-items: center;background-color: white;padding-right: 0.2em;padding-left: 0.2em;position: relative;}#sk-container-id-6 div.sk-item {position: relative;z-index: 1;}#sk-container-id-6 div.sk-parallel {display: flex;align-items: stretch;justify-content: center;background-color: white;position: relative;}#sk-container-id-6 div.sk-item::before, #sk-container-id-6 div.sk-parallel-item::before {content: \"\";position: absolute;border-left: 1px solid gray;box-sizing: border-box;top: 0;bottom: 0;left: 50%;z-index: -1;}#sk-container-id-6 div.sk-parallel-item {display: flex;flex-direction: column;z-index: 1;position: relative;background-color: white;}#sk-container-id-6 div.sk-parallel-item:first-child::after {align-self: flex-end;width: 50%;}#sk-container-id-6 div.sk-parallel-item:last-child::after {align-self: flex-start;width: 50%;}#sk-container-id-6 div.sk-parallel-item:only-child::after {width: 0;}#sk-container-id-6 div.sk-dashed-wrapped {border: 1px dashed gray;margin: 0 0.4em 0.5em 0.4em;box-sizing: border-box;padding-bottom: 0.4em;background-color: white;}#sk-container-id-6 div.sk-label label {font-family: monospace;font-weight: bold;display: inline-block;line-height: 1.2em;}#sk-container-id-6 div.sk-label-container {text-align: center;}#sk-container-id-6 div.sk-container {/* jupyter's `normalize.less` sets `[hidden] { display: none; }` but bootstrap.min.css set `[hidden] { display: none !important; }` so we also need the `!important` here to be able to override the default hidden behavior on the sphinx rendered scikit-learn.org. See: https://github.com/scikit-learn/scikit-learn/issues/21755 */display: inline-block !important;position: relative;}#sk-container-id-6 div.sk-text-repr-fallback {display: none;}</style><div id=\"sk-container-id-6\" class=\"sk-top-container\"><div class=\"sk-text-repr-fallback\"><pre>LinearRegression()</pre><b>In a Jupyter environment, please rerun this cell to show the HTML representation or trust the notebook. <br />On GitHub, the HTML representation is unable to render, please try loading this page with nbviewer.org.</b></div><div class=\"sk-container\" hidden><div class=\"sk-item\"><div class=\"sk-estimator sk-toggleable\"><input class=\"sk-toggleable__control sk-hidden--visually\" id=\"sk-estimator-id-6\" type=\"checkbox\" checked><label for=\"sk-estimator-id-6\" class=\"sk-toggleable__label sk-toggleable__label-arrow\">LinearRegression</label><div class=\"sk-toggleable__content\"><pre>LinearRegression()</pre></div></div></div></div></div>"
      ],
      "text/plain": [
       "LinearRegression()"
      ]
     },
     "execution_count": 86,
     "metadata": {},
     "output_type": "execute_result"
    }
   ],
   "source": [
    "model = LinearRegression()\n",
    "model"
   ]
  },
  {
   "cell_type": "code",
   "execution_count": 115,
   "id": "02221271-8765-44a8-9dc5-238a7b5603da",
   "metadata": {},
   "outputs": [],
   "source": [
    "X = data[['GDP_bigmac']]\n",
    "y = data['dollar_price']"
   ]
  },
  {
   "cell_type": "code",
   "execution_count": 116,
   "id": "7af43354-8a0b-4415-b091-08f42971c8d7",
   "metadata": {},
   "outputs": [
    {
     "data": {
      "text/html": [
       "<style>#sk-container-id-9 {color: black;background-color: white;}#sk-container-id-9 pre{padding: 0;}#sk-container-id-9 div.sk-toggleable {background-color: white;}#sk-container-id-9 label.sk-toggleable__label {cursor: pointer;display: block;width: 100%;margin-bottom: 0;padding: 0.3em;box-sizing: border-box;text-align: center;}#sk-container-id-9 label.sk-toggleable__label-arrow:before {content: \"▸\";float: left;margin-right: 0.25em;color: #696969;}#sk-container-id-9 label.sk-toggleable__label-arrow:hover:before {color: black;}#sk-container-id-9 div.sk-estimator:hover label.sk-toggleable__label-arrow:before {color: black;}#sk-container-id-9 div.sk-toggleable__content {max-height: 0;max-width: 0;overflow: hidden;text-align: left;background-color: #f0f8ff;}#sk-container-id-9 div.sk-toggleable__content pre {margin: 0.2em;color: black;border-radius: 0.25em;background-color: #f0f8ff;}#sk-container-id-9 input.sk-toggleable__control:checked~div.sk-toggleable__content {max-height: 200px;max-width: 100%;overflow: auto;}#sk-container-id-9 input.sk-toggleable__control:checked~label.sk-toggleable__label-arrow:before {content: \"▾\";}#sk-container-id-9 div.sk-estimator input.sk-toggleable__control:checked~label.sk-toggleable__label {background-color: #d4ebff;}#sk-container-id-9 div.sk-label input.sk-toggleable__control:checked~label.sk-toggleable__label {background-color: #d4ebff;}#sk-container-id-9 input.sk-hidden--visually {border: 0;clip: rect(1px 1px 1px 1px);clip: rect(1px, 1px, 1px, 1px);height: 1px;margin: -1px;overflow: hidden;padding: 0;position: absolute;width: 1px;}#sk-container-id-9 div.sk-estimator {font-family: monospace;background-color: #f0f8ff;border: 1px dotted black;border-radius: 0.25em;box-sizing: border-box;margin-bottom: 0.5em;}#sk-container-id-9 div.sk-estimator:hover {background-color: #d4ebff;}#sk-container-id-9 div.sk-parallel-item::after {content: \"\";width: 100%;border-bottom: 1px solid gray;flex-grow: 1;}#sk-container-id-9 div.sk-label:hover label.sk-toggleable__label {background-color: #d4ebff;}#sk-container-id-9 div.sk-serial::before {content: \"\";position: absolute;border-left: 1px solid gray;box-sizing: border-box;top: 0;bottom: 0;left: 50%;z-index: 0;}#sk-container-id-9 div.sk-serial {display: flex;flex-direction: column;align-items: center;background-color: white;padding-right: 0.2em;padding-left: 0.2em;position: relative;}#sk-container-id-9 div.sk-item {position: relative;z-index: 1;}#sk-container-id-9 div.sk-parallel {display: flex;align-items: stretch;justify-content: center;background-color: white;position: relative;}#sk-container-id-9 div.sk-item::before, #sk-container-id-9 div.sk-parallel-item::before {content: \"\";position: absolute;border-left: 1px solid gray;box-sizing: border-box;top: 0;bottom: 0;left: 50%;z-index: -1;}#sk-container-id-9 div.sk-parallel-item {display: flex;flex-direction: column;z-index: 1;position: relative;background-color: white;}#sk-container-id-9 div.sk-parallel-item:first-child::after {align-self: flex-end;width: 50%;}#sk-container-id-9 div.sk-parallel-item:last-child::after {align-self: flex-start;width: 50%;}#sk-container-id-9 div.sk-parallel-item:only-child::after {width: 0;}#sk-container-id-9 div.sk-dashed-wrapped {border: 1px dashed gray;margin: 0 0.4em 0.5em 0.4em;box-sizing: border-box;padding-bottom: 0.4em;background-color: white;}#sk-container-id-9 div.sk-label label {font-family: monospace;font-weight: bold;display: inline-block;line-height: 1.2em;}#sk-container-id-9 div.sk-label-container {text-align: center;}#sk-container-id-9 div.sk-container {/* jupyter's `normalize.less` sets `[hidden] { display: none; }` but bootstrap.min.css set `[hidden] { display: none !important; }` so we also need the `!important` here to be able to override the default hidden behavior on the sphinx rendered scikit-learn.org. See: https://github.com/scikit-learn/scikit-learn/issues/21755 */display: inline-block !important;position: relative;}#sk-container-id-9 div.sk-text-repr-fallback {display: none;}</style><div id=\"sk-container-id-9\" class=\"sk-top-container\"><div class=\"sk-text-repr-fallback\"><pre>LinearRegression()</pre><b>In a Jupyter environment, please rerun this cell to show the HTML representation or trust the notebook. <br />On GitHub, the HTML representation is unable to render, please try loading this page with nbviewer.org.</b></div><div class=\"sk-container\" hidden><div class=\"sk-item\"><div class=\"sk-estimator sk-toggleable\"><input class=\"sk-toggleable__control sk-hidden--visually\" id=\"sk-estimator-id-9\" type=\"checkbox\" checked><label for=\"sk-estimator-id-9\" class=\"sk-toggleable__label sk-toggleable__label-arrow\">LinearRegression</label><div class=\"sk-toggleable__content\"><pre>LinearRegression()</pre></div></div></div></div></div>"
      ],
      "text/plain": [
       "LinearRegression()"
      ]
     },
     "execution_count": 116,
     "metadata": {},
     "output_type": "execute_result"
    }
   ],
   "source": [
    "model.fit(X,y)"
   ]
  },
  {
   "cell_type": "code",
   "execution_count": 117,
   "id": "afa6e2f1-e852-4588-af50-72edf8188275",
   "metadata": {},
   "outputs": [
    {
     "data": {
      "text/plain": [
       "0.23344682453670118"
      ]
     },
     "execution_count": 117,
     "metadata": {},
     "output_type": "execute_result"
    }
   ],
   "source": [
    "model.score(X,y)"
   ]
  },
  {
   "cell_type": "code",
   "execution_count": 118,
   "id": "5a1fa128-228c-452d-a89c-da7584c516cc",
   "metadata": {},
   "outputs": [
    {
     "data": {
      "text/plain": [
       "array([2.58966215e-05])"
      ]
     },
     "execution_count": 118,
     "metadata": {},
     "output_type": "execute_result"
    }
   ],
   "source": [
    "model.coef_"
   ]
  },
  {
   "cell_type": "code",
   "execution_count": 119,
   "id": "3ccb02ba-cbb2-4c14-9989-dd239bc7bb68",
   "metadata": {},
   "outputs": [
    {
     "data": {
      "text/plain": [
       "2.716707229073858"
      ]
     },
     "execution_count": 119,
     "metadata": {},
     "output_type": "execute_result"
    }
   ],
   "source": [
    "model.intercept_"
   ]
  },
  {
   "cell_type": "code",
   "execution_count": 120,
   "id": "17e195fd-333f-487b-8378-bc0bedd28986",
   "metadata": {},
   "outputs": [
    {
     "data": {
      "text/plain": [
       "array([2.94977682])"
      ]
     },
     "execution_count": 120,
     "metadata": {},
     "output_type": "execute_result"
    }
   ],
   "source": [
    "model.intercept_ + model.coef_ * 9000"
   ]
  },
  {
   "cell_type": "code",
   "execution_count": 124,
   "id": "0d25cf10-b262-4815-9b1c-53d19be21372",
   "metadata": {},
   "outputs": [
    {
     "data": {
      "text/plain": [
       "array([3.25564125, 4.22256101, 2.95916525, 3.9583668 , 3.80525171,\n",
       "       3.18345924, 3.09698691, 2.92650862, 3.44849611, 4.30140858,\n",
       "       2.86324452, 3.74774643, 5.02613488, 3.35342801, 2.8113078 ,\n",
       "       2.92433139, 3.80959835, 4.09293904, 3.31927281, 3.18394604,\n",
       "       3.93073053, 4.3602329 , 2.76624967, 2.98597104, 2.86717336,\n",
       "       3.36717286, 3.50011207, 3.68244654, 4.61258767, 3.07992932,\n",
       "       3.71410371, 3.8237693 , 4.28648225, 4.09370905, 2.95842964,\n",
       "       3.23678309, 4.34269866])"
      ]
     },
     "execution_count": 124,
     "metadata": {},
     "output_type": "execute_result"
    }
   ],
   "source": [
    "y_pred = model.predict(data[['GDP_bigmac']])\n",
    "y_pred"
   ]
  },
  {
   "cell_type": "code",
   "execution_count": 143,
   "id": "06e697c4-2761-4b8b-a7df-d3a703e0782d",
   "metadata": {},
   "outputs": [],
   "source": [
    "data.insert(7, 'model', y_pred)"
   ]
  },
  {
   "cell_type": "code",
   "execution_count": 144,
   "id": "e417b49c-4cb9-4464-b40e-dca7498003b1",
   "metadata": {},
   "outputs": [
    {
     "data": {
      "text/html": [
       "<div>\n",
       "<style scoped>\n",
       "    .dataframe tbody tr th:only-of-type {\n",
       "        vertical-align: middle;\n",
       "    }\n",
       "\n",
       "    .dataframe tbody tr th {\n",
       "        vertical-align: top;\n",
       "    }\n",
       "\n",
       "    .dataframe thead th {\n",
       "        text-align: right;\n",
       "    }\n",
       "</style>\n",
       "<table border=\"1\" class=\"dataframe\">\n",
       "  <thead>\n",
       "    <tr style=\"text-align: right;\">\n",
       "      <th></th>\n",
       "      <th>date</th>\n",
       "      <th>iso_a3</th>\n",
       "      <th>currency_code</th>\n",
       "      <th>name</th>\n",
       "      <th>local_price</th>\n",
       "      <th>dollar_ex</th>\n",
       "      <th>dollar_price</th>\n",
       "      <th>model</th>\n",
       "      <th>GDP_bigmac</th>\n",
       "      <th>adj_price</th>\n",
       "      <th>USD</th>\n",
       "      <th>EUR</th>\n",
       "      <th>GBP</th>\n",
       "      <th>JPY</th>\n",
       "      <th>CNY</th>\n",
       "    </tr>\n",
       "  </thead>\n",
       "  <tbody>\n",
       "    <tr>\n",
       "      <th>1022</th>\n",
       "      <td>2019-01-01</td>\n",
       "      <td>ARG</td>\n",
       "      <td>ARS</td>\n",
       "      <td>Argentina</td>\n",
       "      <td>75.00</td>\n",
       "      <td>37.455000</td>\n",
       "      <td>2.002403</td>\n",
       "      <td>3.255641</td>\n",
       "      <td>20810.978188</td>\n",
       "      <td>3.400040</td>\n",
       "      <td>-0.43135</td>\n",
       "      <td>-0.50271</td>\n",
       "      <td>-0.40109</td>\n",
       "      <td>-0.29847</td>\n",
       "      <td>-0.37607</td>\n",
       "    </tr>\n",
       "    <tr>\n",
       "      <th>1023</th>\n",
       "      <td>2019-01-01</td>\n",
       "      <td>AUS</td>\n",
       "      <td>AUD</td>\n",
       "      <td>Australia</td>\n",
       "      <td>6.10</td>\n",
       "      <td>1.401640</td>\n",
       "      <td>4.352045</td>\n",
       "      <td>4.222561</td>\n",
       "      <td>58148.657774</td>\n",
       "      <td>4.420911</td>\n",
       "      <td>-0.04949</td>\n",
       "      <td>-0.16876</td>\n",
       "      <td>0.00110</td>\n",
       "      <td>0.17263</td>\n",
       "      <td>0.04292</td>\n",
       "    </tr>\n",
       "    <tr>\n",
       "      <th>1024</th>\n",
       "      <td>2019-01-01</td>\n",
       "      <td>BRA</td>\n",
       "      <td>BRL</td>\n",
       "      <td>Brazil</td>\n",
       "      <td>16.90</td>\n",
       "      <td>3.717950</td>\n",
       "      <td>4.545516</td>\n",
       "      <td>2.959165</td>\n",
       "      <td>9362.534656</td>\n",
       "      <td>3.087021</td>\n",
       "      <td>0.42174</td>\n",
       "      <td>0.24334</td>\n",
       "      <td>0.49740</td>\n",
       "      <td>0.75398</td>\n",
       "      <td>0.55995</td>\n",
       "    </tr>\n",
       "    <tr>\n",
       "      <th>1025</th>\n",
       "      <td>2019-01-01</td>\n",
       "      <td>GBR</td>\n",
       "      <td>GBP</td>\n",
       "      <td>Britain</td>\n",
       "      <td>3.19</td>\n",
       "      <td>0.783208</td>\n",
       "      <td>4.072992</td>\n",
       "      <td>3.958367</td>\n",
       "      <td>47946.778270</td>\n",
       "      <td>4.141975</td>\n",
       "      <td>-0.05053</td>\n",
       "      <td>-0.16967</td>\n",
       "      <td>0.00000</td>\n",
       "      <td>0.17135</td>\n",
       "      <td>0.04178</td>\n",
       "    </tr>\n",
       "    <tr>\n",
       "      <th>1026</th>\n",
       "      <td>2019-01-01</td>\n",
       "      <td>CAN</td>\n",
       "      <td>CAD</td>\n",
       "      <td>Canada</td>\n",
       "      <td>6.77</td>\n",
       "      <td>1.331400</td>\n",
       "      <td>5.084873</td>\n",
       "      <td>3.805252</td>\n",
       "      <td>42034.227332</td>\n",
       "      <td>3.980317</td>\n",
       "      <td>0.23350</td>\n",
       "      <td>0.07872</td>\n",
       "      <td>0.29914</td>\n",
       "      <td>0.52175</td>\n",
       "      <td>0.35341</td>\n",
       "    </tr>\n",
       "  </tbody>\n",
       "</table>\n",
       "</div>"
      ],
      "text/plain": [
       "           date iso_a3 currency_code       name  local_price  dollar_ex  \\\n",
       "1022 2019-01-01    ARG           ARS  Argentina        75.00  37.455000   \n",
       "1023 2019-01-01    AUS           AUD  Australia         6.10   1.401640   \n",
       "1024 2019-01-01    BRA           BRL     Brazil        16.90   3.717950   \n",
       "1025 2019-01-01    GBR           GBP    Britain         3.19   0.783208   \n",
       "1026 2019-01-01    CAN           CAD     Canada         6.77   1.331400   \n",
       "\n",
       "      dollar_price     model    GDP_bigmac  adj_price      USD      EUR  \\\n",
       "1022      2.002403  3.255641  20810.978188   3.400040 -0.43135 -0.50271   \n",
       "1023      4.352045  4.222561  58148.657774   4.420911 -0.04949 -0.16876   \n",
       "1024      4.545516  2.959165   9362.534656   3.087021  0.42174  0.24334   \n",
       "1025      4.072992  3.958367  47946.778270   4.141975 -0.05053 -0.16967   \n",
       "1026      5.084873  3.805252  42034.227332   3.980317  0.23350  0.07872   \n",
       "\n",
       "          GBP      JPY      CNY  \n",
       "1022 -0.40109 -0.29847 -0.37607  \n",
       "1023  0.00110  0.17263  0.04292  \n",
       "1024  0.49740  0.75398  0.55995  \n",
       "1025  0.00000  0.17135  0.04178  \n",
       "1026  0.29914  0.52175  0.35341  "
      ]
     },
     "execution_count": 144,
     "metadata": {},
     "output_type": "execute_result"
    }
   ],
   "source": [
    "data.head()"
   ]
  },
  {
   "cell_type": "code",
   "execution_count": 145,
   "id": "ed28b30e-71c7-4b90-8ddf-33876e91e5be",
   "metadata": {},
   "outputs": [],
   "source": [
    "y_act = data['dollar_price']"
   ]
  },
  {
   "cell_type": "code",
   "execution_count": 146,
   "id": "d32d8017-c3ef-4203-a0fd-c98915135db1",
   "metadata": {},
   "outputs": [
    {
     "data": {
      "text/plain": [
       "1.0871398037122988"
      ]
     },
     "execution_count": 146,
     "metadata": {},
     "output_type": "execute_result"
    }
   ],
   "source": [
    "mean_squared_error(y_act, y_pred)"
   ]
  },
  {
   "cell_type": "code",
   "execution_count": null,
   "id": "d112b9f6-bee3-4d82-a630-e7a284d1a458",
   "metadata": {},
   "outputs": [],
   "source": []
  }
 ],
 "metadata": {
  "kernelspec": {
   "display_name": "Python 3 (ipykernel)",
   "language": "python",
   "name": "python3"
  },
  "language_info": {
   "codemirror_mode": {
    "name": "ipython",
    "version": 3
   },
   "file_extension": ".py",
   "mimetype": "text/x-python",
   "name": "python",
   "nbconvert_exporter": "python",
   "pygments_lexer": "ipython3",
   "version": "3.11.7"
  }
 },
 "nbformat": 4,
 "nbformat_minor": 5
}
